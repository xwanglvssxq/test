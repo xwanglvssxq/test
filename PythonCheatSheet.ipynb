{
 "cells": [
  {
   "cell_type": "markdown",
   "metadata": {},
   "source": [
    "## Part 1: Control Structures"
   ]
  },
  {
   "cell_type": "code",
   "execution_count": null,
   "metadata": {
    "collapsed": false
   },
   "outputs": [],
   "source": [
    "#display the python version:\n",
    "import sys\n",
    "print(sys.version)"
   ]
  },
  {
   "cell_type": "code",
   "execution_count": null,
   "metadata": {
    "collapsed": false
   },
   "outputs": [],
   "source": [
    "#simple for loop\n",
    "for i in range (1, 6):\n",
    "    print(i)"
   ]
  },
  {
   "cell_type": "code",
   "execution_count": null,
   "metadata": {
    "collapsed": false
   },
   "outputs": [],
   "source": [
    "# the range is not including the upper bound!\n",
    "# the \"body\" of the for block is defined by indentation. it can have multiple lines\n",
    "# building a string from variables is known as \"string interpolation\".\n",
    "for i in range (1, 7, 2):\n",
    "    squared_i = i**2\n",
    "    print(\"{0} times {0} is {1}\".format(i,squared_i))\n",
    "print(\"this is outside the loop\")"
   ]
  },
  {
   "cell_type": "code",
   "execution_count": null,
   "metadata": {
    "collapsed": false
   },
   "outputs": [],
   "source": [
    "# Read some value from the console\n",
    "# Test conditions, execute code conditionally\n",
    "# indentation is important\n",
    "\n",
    "someInput = input(\"Type a number: \")\n",
    "#Note: we do not test if the input is a valid number. \n",
    "#Learn about Exeption Handling:\n",
    "# https://docs.python.org/2/tutorial/errors.html\n",
    "someNumber = int(someInput) \n",
    "\n",
    "if (someNumber < 10):\n",
    "    print(\"The number {0} is smaller than 10.\".format(someNumber))\n",
    "elif (someNumber < 20):\n",
    "    print(\"The number {0} is smaller than 20.\".format(someNumber))\n",
    "    print(\"And the number {0} is larger or equal than 10.\".format(someNumber))\n",
    "else:\n",
    "    print(\"{0} is a big number.\".format(someNumber))\n",
    "print(\"finished\")    "
   ]
  },
  {
   "cell_type": "code",
   "execution_count": null,
   "metadata": {
    "collapsed": false
   },
   "outputs": [],
   "source": [
    "#let's play a game: the computer generates a random number,\n",
    "#you have to guess it\n",
    "\n",
    "#Use the random number generator defined in the random class\n",
    "import random as rand\n",
    "\n",
    "#specify the game parameters:\n",
    "lowerBound = 5;\n",
    "upperBound = 11;\n",
    "maxNrTrials = 5;\n",
    "\n",
    "#here starts the implementation of the game\n",
    "secretNumber = rand.randint(lowerBound, upperBound)\n",
    "print(\"The computer has generated a random number in the interval [{0},{1}]\" \\\n",
    "     # \\ is a line break, the code continues here:\n",
    "     .format(lowerBound, upperBound))\n",
    "\n",
    "#define a boolean variable, initialize it with False\n",
    "isSolved = False\n",
    "nrOfTrials = 0;\n",
    "\n",
    "# a while loop is repeating as long as the entry-condition is True.\n",
    "# note the logical negation operators \"not\" and \"and\":\n",
    "while ( (not isSolved)  and (nrOfTrials < maxNrTrials)):\n",
    "    guess = int(input(\"Enter your guess: \"))\n",
    "    if secretNumber < guess:\n",
    "        print(\"The secret number is smaller\")\n",
    "    elif  secretNumber > guess:\n",
    "        print(\"The secret number is larger\")\n",
    "    else:\n",
    "        isSolved = True\n",
    "    #in all cases, increment the counter variable by one\n",
    "    nrOfTrials += 1 \n",
    "\n",
    "if isSolved:\n",
    "    print(\"You solved the puzzle in {0} trials\".format(nrOfTrials))\n",
    "else:\n",
    "    print(\"You lost. The secret number was: {0}. You did not find it in {1} trials. :-(\"\\\n",
    "    .format(secretNumber, nrOfTrials))"
   ]
  },
  {
   "cell_type": "code",
   "execution_count": null,
   "metadata": {
    "collapsed": false
   },
   "outputs": [],
   "source": [
    "not True"
   ]
  },
  {
   "cell_type": "markdown",
   "metadata": {},
   "source": [
    "## Part 2: dealing with vectors and arrays: numpy\n",
    "\n",
    "read the docs: http://docs.scipy.org/doc/numpy/"
   ]
  },
  {
   "cell_type": "code",
   "execution_count": null,
   "metadata": {
    "collapsed": false
   },
   "outputs": [],
   "source": [
    "import numpy as np \n",
    "\n",
    "a = np.array([3, 4])\n",
    "b = np.array([1, 2])\n",
    "print(np.linalg.norm(a)) # http://docs.scipy.org/doc/numpy/reference/routines.linalg.html\n",
    "print(np.dot(a,b))"
   ]
  },
  {
   "cell_type": "code",
   "execution_count": null,
   "metadata": {
    "collapsed": false
   },
   "outputs": [],
   "source": [
    "#a convenient constructor:\n",
    "print(np.zeros( (2, 3) )) \n",
    "# how many parameters does the zeros method have? and of what type?\n",
    "# -> get used to read the API: \n",
    "# http://docs.scipy.org/doc/numpy-1.10.1/reference/generated/numpy.ones.html#numpy.ones\n",
    "\n",
    "arrayShape = (2,4)\n",
    "anArray = np.ones(arrayShape)\n",
    "print(anArray)\n",
    "print(\"assign a value to an array element. note the zero based indexing!\")\n",
    "anArray[1, 0] = 10 \n",
    "print(anArray)\n",
    "print(\"get the size of an array\")\n",
    "print(anArray.shape)\n",
    "print(\"compare the size to that of a vector:\")\n",
    "a = np.array([3, 4])\n",
    "print(a.shape)\n",
    "print(\"reshape\")\n",
    "oneByNMatrice = np.reshape(a, (1,2))\n",
    "print(oneByNMatrice)\n",
    "print(oneByNMatrice.shape)"
   ]
  },
  {
   "cell_type": "code",
   "execution_count": null,
   "metadata": {
    "collapsed": false
   },
   "outputs": [],
   "source": [
    "#indexing 2d arrays\n",
    "print(\"initialze a 2-dim array with specific values\")\n",
    "anArray = np.array( [[0, 1, 2], [10, 11, 12], [20, 21, 22]])\n",
    "print(anArray)\n",
    "\n",
    "print(\"access specific rows and columns:\")\n",
    "print(anArray[0,:])\n",
    "print(anArray[:, 1])\n",
    "\n",
    "print(\"index from the end:\")\n",
    "print(anArray[:, -1])\n",
    "\n",
    "print(\"get all columns from the first and second row\")\n",
    "b=anArray[0:2 , :]\n",
    "print(b)\n",
    "\n",
    "print(\"get all rows from the first and third column\")\n",
    "c=anArray[:, [0, 2]]\n",
    "print(c)\n",
    "\n",
    "print(\"get the diagonal elements\")\n",
    "print(np.diag(anArray))\n",
    "\n",
    "print(\"todo: logical indexing\")\n",
    "\n",
    "#learn more about indexing, slicing, ...\n",
    "# https://docs.scipy.org/doc/numpy-dev/user/quickstart.html\n",
    "\n"
   ]
  },
  {
   "cell_type": "code",
   "execution_count": null,
   "metadata": {
    "collapsed": false
   },
   "outputs": [],
   "source": [
    "#get ten values in an interval: linspace or logspace\n",
    "v1 = np.linspace(1, 2, 5)\n",
    "print(v1)\n",
    "v2 = np.logspace(1, 2, 5)\n",
    "print(v2) #did you expect that result? read-the-docs \n",
    "#ok,taking log, what do you expect now:\n",
    "print(np.log(v2))\n",
    "print(np.log10(v2))\n"
   ]
  },
  {
   "cell_type": "code",
   "execution_count": null,
   "metadata": {
    "collapsed": false
   },
   "outputs": [],
   "source": [
    "#more about matrices, use of np.random\n",
    "print(\"compute the determinant of a 3x3 random matrix\")\n",
    "myRandomMatrix = np.random.rand(3,3)\n",
    "print(myRandomMatrix)\n",
    "determinant = np.linalg.det(myRandomMatrix)\n",
    "print(determinant)\n",
    "print(\"Note the size of a 3d VECTOR, it's not a 1 by 3 matrix:\")\n",
    "randVector = np.random.rand(3)\n",
    "print(randVector)\n",
    "print(randVector.size)\n",
    "\n",
    "print(\"round to 2 decimals\")\n",
    "#note the \"named\" parameter decimals. This sometimes improves the readability\n",
    "roundedValues = np.around(randVector, decimals=2) \n",
    "#roundedValues = np.around(randVector, 2) \n",
    "print(roundedValues)\n",
    "\n",
    "# matrix multiplication\n",
    "# matrices\n",
    "print(\"initialze a 2-dim array with specific values\")\n",
    "A = np.array( [[0, 1, 2], [10, 11, 12]])\n",
    "print(\"A\")\n",
    "print(A)\n",
    "B = np.array([[1], [2]])\n",
    "print(\"B\")\n",
    "print(B)\n",
    "print(\"A transposed times B\")\n",
    "print(np.dot(A.transpose(),B))\n",
    "C = np.random.random_sample(A.shape) # random_sample is the same as rand but takes a shape param\n",
    "print(\"element wise addition and multiplication\")\n",
    "print(np.add(A,C))\n",
    "print(A + C)\n",
    "print(np.multiply(A,C))\n",
    "print(A * C)"
   ]
  },
  {
   "cell_type": "markdown",
   "metadata": {},
   "source": [
    "other datatypes: **Lists**\n",
    "\n",
    "Note: vectors and arrays shown above are the Python implementation of the corresponding mathematical objects. \n",
    "Sometimes they are not the most convenient way to store data. There are many other ways to  store and access values. Datastructures are a topic on their own. We only give an example of lists:"
   ]
  },
  {
   "cell_type": "code",
   "execution_count": null,
   "metadata": {
    "collapsed": false
   },
   "outputs": [],
   "source": [
    "print(\"initialize an empty list\")\n",
    "myList = []\n",
    "print(\"lists are a dynamic datastructure. it grows as we add elements\")\n",
    "myList.append(\"This\")\n",
    "myList.append(\"is\")\n",
    "#append another list:\n",
    "myList.extend([\"a\", \"list\"])\n",
    "print(myList)\n",
    "print(\"pop the last element from the list. \")\n",
    "print(myList.pop())\n",
    "print(\"default sorting\")\n",
    "myList.sort()\n",
    "print(myList)\n",
    "print(\"case insensitive sorting\")\n",
    "myList.sort(key=str.lower)\n",
    "#iterate over all elements:\n",
    "for someElement in myList:\n",
    "    print(someElement)"
   ]
  },
  {
   "cell_type": "markdown",
   "metadata": {},
   "source": [
    "## Part 3: some math and the use of matplotlib\n",
    "\n",
    "Here's the doc:\n",
    "\n",
    "http://matplotlib.org\n",
    "\n",
    "The fastest way to learn matplotlib, is to browse the examples:\n",
    "http://matplotlib.org/gallery.html\n",
    "\n",
    "What is a figure, an axes, a subplot? That can be confusing. Read this:\n",
    "\n",
    "http://matplotlib.org/faq/usage_faq.html\n"
   ]
  },
  {
   "cell_type": "code",
   "execution_count": 1,
   "metadata": {
    "collapsed": false
   },
   "outputs": [
    {
     "data": {
      "text/plain": [
       "<matplotlib.legend.Legend at 0x111ae4ed0>"
      ]
     },
     "execution_count": 1,
     "metadata": {},
     "output_type": "execute_result"
    },
    {
     "data": {
      "image/png": "[encoded data removed]",
      "text/plain": [
       "<matplotlib.figure.Figure at 0x1087a7bd0>"
      ]
     },
     "metadata": {},
     "output_type": "display_data"
    }
   ],
   "source": [
    "#the following directive needed in notebooks only, not in your files\n",
    "%matplotlib inline  \n",
    "\n",
    "import numpy as np\n",
    "import matplotlib.pyplot as plt\n",
    "\n",
    "x= np.arange(-2*np.pi, 2*np.pi, 0.05)\n",
    "y_sine = np.sin(x)\n",
    "y_cosine = np.cos(x)\n",
    "# we use the pyplot class plt to make a plot\n",
    "plt.plot(x, y_sine)\n",
    "plt.plot(x, y_cosine, '--r') #set the line style\n",
    "plt.axes().set_aspect('equal', 'datalim')\n",
    "plt.grid()\n",
    "plt.xlabel(\"x\")\n",
    "plt.ylabel(\"y=f(x)\")\n",
    "#for some properties we need a reference to the figure:\n",
    "#f = plt.figure()\n",
    "plt.title(\"sine and cosine\")\n",
    "plt.legend((\"sine\", \"cosine\"))"
   ]
  },
  {
   "cell_type": "code",
   "execution_count": null,
   "metadata": {
    "collapsed": false
   },
   "outputs": [],
   "source": [
    "# a nested loop demo\n",
    "# array indexing\n",
    "# compute some values and store them in an array. visualize the values.\n",
    "# for more advanced plotting: http://matplotlib.org/mpl_toolkits/mplot3d/tutorial.html\n",
    "\n",
    "products = np.zeros([10, 10])\n",
    "for i in range(1, 11):\n",
    "    for k in range (1, 11):\n",
    "        i_times_k = i*k \n",
    "        products[i-1, k-1] = i_times_k #note: indexing is zero based\n",
    "\n",
    "plt.imshow(products)\n"
   ]
  },
  {
   "cell_type": "markdown",
   "metadata": {},
   "source": [
    "## Part 4: Copying and slicing lists and numpy arrays\n",
    "\n",
    "Certain features of Python might lead to unwanted behaviour and serious mistakes, if one is not aware of them. \n",
    "\n",
    "* Assigning a list to a new variable does not create a copy of the list, but creates a variable that points to the list. This means that modifying the second variable, also modifies the original list.\n",
    "* Assigning a slice of a list to a new variable, creates a copy of the list. Any modification to the sliced list does not modify the original.\n",
    "\n",
    "Check the outcome of the following commands:"
   ]
  },
  {
   "cell_type": "code",
   "execution_count": 3,
   "metadata": {
    "collapsed": false
   },
   "outputs": [
    {
     "name": "stdout",
     "output_type": "stream",
     "text": [
      "*** Copying a list and modifying 1 element ***\n",
      "[1, 2, 3, 4, 5, 6]\n",
      "[1, 2, 3, 4, 5, 6]\n",
      "[1, 99, 3, 4, 5, 6]\n",
      "[1, 99, 3, 4, 5, 6]\n",
      "\n",
      "\n",
      "*** Slicing a list and modifying 1 element ***\n",
      "[1, 2, 3, 4, 5, 6]\n",
      "[1, 2, 3, 4]\n",
      "[1, 99, 3, 4]\n",
      "[1, 2, 3, 4, 5, 6]\n",
      "\n",
      "\n",
      "*** Copying a list via slicing and modifying 1 element ***\n",
      "[1, 2, 3, 4, 5, 6]\n",
      "[1, 2, 3, 4, 5, 6]\n",
      "[1, 99, 3, 4, 5, 6]\n",
      "[1, 2, 3, 4, 5, 6]\n",
      "\n",
      "\n"
     ]
    }
   ],
   "source": [
    "print \"*** Copying a list and modifying 1 element ***\"\n",
    "a = [1, 2, 3, 4, 5, 6]\n",
    "print a\n",
    "b = a\n",
    "print b\n",
    "b[1] = 99\n",
    "print b\n",
    "print a\n",
    "print \"\\n\"\n",
    "\n",
    "print \"*** Slicing a list and modifying 1 element ***\"\n",
    "a = [1, 2, 3, 4, 5, 6]\n",
    "print a\n",
    "c = a[0:4]\n",
    "print c\n",
    "c[1] = 99\n",
    "print c\n",
    "print a\n",
    "print \"\\n\"\n",
    "\n",
    "print \"*** Copying a list via slicing and modifying 1 element ***\"\n",
    "a = [1, 2, 3, 4, 5, 6]\n",
    "print a\n",
    "d = a[:]\n",
    "print d\n",
    "d[1] = 99\n",
    "print d\n",
    "print a\n",
    "print \"\\n\""
   ]
  },
  {
   "cell_type": "markdown",
   "metadata": {},
   "source": [
    "Now when it comes to numpy arrays\n",
    "* Assigning a numpy array to a new variable does not create a copy of the array, but creates a variable that points to the array. This means that modifying the second variable, also modifies the original array. (same as above)\n",
    "* Assigning a slice of a numpy array to a new variable creates a variable that points to the corresponding elements of the original array as well! (contrary to what we saw above!) This means that modifying the second variable, also modifies the original array!\n",
    "* To copy the original array and ensure that it is not modified by any modification of its copied version, the method copy() should be used.\n",
    "\n",
    "Check the outcome of the following commands:"
   ]
  },
  {
   "cell_type": "code",
   "execution_count": 5,
   "metadata": {
    "collapsed": false
   },
   "outputs": [
    {
     "name": "stdout",
     "output_type": "stream",
     "text": [
      "*** Copying a numpy array and modifying 1 element ***\n",
      "[1 2 3 4 5 6]\n",
      "[1 2 3 4 5 6]\n",
      "[ 1 99  3  4  5  6]\n",
      "[ 1 99  3  4  5  6]\n",
      "\n",
      "\n",
      "*** Slicing a numpy array and modifying 1 element ***\n",
      "[1 2 3 4 5 6]\n",
      "[1 2 3 4]\n",
      "[ 1 99  3  4]\n",
      "[ 1 99  3  4  5  6]\n",
      "\n",
      "\n",
      "*** Copying a numpy array via slicing and modifying 1 element ***\n",
      "[1 2 3 4 5 6]\n",
      "[1 2 3 4 5 6]\n",
      "[ 1 99  3  4  5  6]\n",
      "[ 1 99  3  4  5  6]\n",
      "\n",
      "\n",
      "*** Literally copying a numpy array and modifying 1 element ***\n",
      "[1 2 3 4 5 6]\n",
      "[1 2 3 4 5 6]\n",
      "[ 1 99  3  4  5  6]\n",
      "[1 2 3 4 5 6]\n",
      "\n",
      "\n"
     ]
    }
   ],
   "source": [
    "import numpy as np\n",
    "print \"*** Copying a numpy array and modifying 1 element ***\"\n",
    "a = np.array([1, 2, 3, 4, 5, 6])\n",
    "print a\n",
    "b = a\n",
    "print b\n",
    "b[1] = 99\n",
    "print b\n",
    "print a\n",
    "print \"\\n\"\n",
    "\n",
    "print \"*** Slicing a numpy array and modifying 1 element ***\"\n",
    "a = np.array([1, 2, 3, 4, 5, 6])\n",
    "print a\n",
    "c = a[0:4]\n",
    "print c\n",
    "c[1] = 99\n",
    "print c\n",
    "print a\n",
    "print \"\\n\"\n",
    "\n",
    "print \"*** Copying a numpy array via slicing and modifying 1 element ***\"\n",
    "a = np.array([1, 2, 3, 4, 5, 6])\n",
    "print a\n",
    "d = a[:]\n",
    "print d\n",
    "d[1] = 99\n",
    "print d\n",
    "print a\n",
    "print \"\\n\"\n",
    "\n",
    "print \"*** Literally copying a numpy array and modifying 1 element ***\"\n",
    "a = np.array([1, 2, 3, 4, 5, 6])\n",
    "print a\n",
    "b = a.copy()\n",
    "print b\n",
    "b[1] = 99\n",
    "print b\n",
    "print a\n",
    "print \"\\n\""
   ]
  },
  {
   "cell_type": "code",
   "execution_count": null,
   "metadata": {
    "collapsed": true
   },
   "outputs": [],
   "source": []
  }
 ],
 "metadata": {
  "anaconda-cloud": {},
  "kernelspec": {
   "display_name": "Python 2",
   "language": "python",
   "name": "python2"
  },
  "language_info": {
   "codemirror_mode": {
    "name": "ipython",
    "version": 2
   },
   "file_extension": ".py",
   "mimetype": "text/x-python",
   "name": "python",
   "nbconvert_exporter": "python",
   "pygments_lexer": "ipython2",
   "version": "2.7.13"
  }
 },
 "nbformat": 4,
 "nbformat_minor": 0
}
